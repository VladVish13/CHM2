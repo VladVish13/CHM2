{
 "cells": [
  {
   "cell_type": "code",
   "execution_count": null,
   "id": "84de70ef-eea6-4d26-b93f-4d0c100a5fd3",
   "metadata": {},
   "outputs": [
    {
     "name": "stdout",
     "output_type": "stream",
     "text": [
      "f'(x) = x*cos(x) + sin(x)\n",
      "f''(x) = -x*sin(x) + 2*cos(x)\n",
      "f'''(x) = -x*cos(x) - 3*sin(x)\n",
      "f(0) = 0\n",
      "T(x) = 1.0*x**2\n"
     ]
    }
   ],
   "source": [
    "import sympy as sp \n",
    "import numpy as np \n",
    "import matplotlib.pyplot as plt \n",
    "from scipy.interpolate import approximate_taylor_polynomial\n",
    "\n",
    "# Задаємо символьну змінну x та функцію f(x) \n",
    "x_symbolic = sp.symbols('x') \n",
    "f = x_symbolic * sp.sin(x_symbolic)\n",
    "\n",
    "# Знаходимо перші три похідні \n",
    "f1 = sp.diff(f, x_symbolic) \n",
    "f2 = sp.diff(f1, x_symbolic)  \n",
    "f3 = sp.diff(f2, x_symbolic) \n",
    "\n",
    "# Виводимо похідні \n",
    "print(\"f'(x) =\", f1) \n",
    "print(\"f''(x) =\", f2) \n",
    "print(\"f'''(x) =\", f3) \n",
    "\n",
    "# Знаходимо значення функції та її похідних в точці x=0 \n",
    "x0 = 0 \n",
    "f_x0 = f.subs(x_symbolic, x0).evalf() \n",
    "f1_x0 = f1.subs(x_symbolic, x0).evalf() \n",
    "f2_x0 = f2.subs(x_symbolic, x0).evalf() \n",
    "f3_x0 = f3.subs(x_symbolic, x0).evalf() \n",
    "\n",
    "# Обчислюємо значення многочлена Тейлора в точці x=0 \n",
    "T = f_x0 + f1_x0 * (x_symbolic - x0) + (f2_x0 / 2) * (x_symbolic - x0)**2 + (f3_x0 / 6) * (x_symbolic - x0)**3 \n",
    "\n",
    "# Виводимо значення функції та її наближення за багаточленом Тейлора в точці x=0 \n",
    "print(\"f(0) =\", f_x0) \n",
    "print(\"T(x) =\", T.evalf()) \n",
    "\n",
    "# Будуємо графіки \n",
    "x_vals = np.linspace(-2, 2, 1000) \n",
    "f_vals = np.array([f.subs(x_symbolic, xi).evalf() for xi in x_vals]) \n",
    "T_vals = np.array([T.subs(x_symbolic, xi).evalf() for xi in x_vals]) \n",
    "\n",
    "fig, ax = plt.subplots() \n",
    "ax.plot(x_vals, f_vals, label=\"f(x)\") \n",
    "ax.plot(x_vals, T_vals, label=\"T(x)\") \n",
    "ax.legend() \n",
    "ax.set_xlabel(\"x\") \n",
    "ax.set_ylabel(\"y\") \n",
    "ax.set_title(\"Графік функції та наближення многочленом Тейлора\") \n",
    "plt.grid(True) \n",
    "plt.show()\n",
    "\n",
    "# Побудова багаточлена Тейлора за допомогою approximate_taylor_polynomial\n",
    "x_numeric = np.linspace(-2.0, 2.0, num=400) \n",
    "\n",
    "plt.figure(figsize=(10, 6)) \n",
    "plt.plot(x_numeric, f(x_numeric), label=\"f(x) curve\", color='blue') \n",
    "n = 3  # Виправлено тут\n",
    "taylor = approximate_taylor_polynomial(f, 0, n, 1) \n",
    "print('taylor=', taylor) \n",
    "\n",
    "plt.plot(x_numeric, taylor(x_numeric), label=f\"degree={n}\", color='red', linestyle='--') \n",
    "\n",
    "plt.legend(bbox_to_anchor=(1.05, 1), loc='upper left', borderaxespad=0.0, shadow=True) \n",
    "plt.xlabel(\"x\") \n",
    "plt.ylabel(\"y\") \n",
    "plt.title(\"Графік функції та наближення багаточленами Тейлора\") \n",
    "plt.tight_layout() \n",
    "plt.grid() \n",
    "plt.show()\n"
   ]
  },
  {
   "cell_type": "code",
   "execution_count": null,
   "id": "39f3325a-59e4-475d-9398-6be4a2eb8638",
   "metadata": {},
   "outputs": [],
   "source": []
  }
 ],
 "metadata": {
  "kernelspec": {
   "display_name": "Python 3 (ipykernel)",
   "language": "python",
   "name": "python3"
  },
  "language_info": {
   "codemirror_mode": {
    "name": "ipython",
    "version": 3
   },
   "file_extension": ".py",
   "mimetype": "text/x-python",
   "name": "python",
   "nbconvert_exporter": "python",
   "pygments_lexer": "ipython3",
   "version": "3.11.5"
  }
 },
 "nbformat": 4,
 "nbformat_minor": 5
}
